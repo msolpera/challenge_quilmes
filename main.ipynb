{
 "cells": [
  {
   "cell_type": "markdown",
   "id": "b2f1ea46",
   "metadata": {},
   "source": [
    "# Challenge - DS - Quilmes \n",
    "## Contexto\n",
    "La empresa __Quilmes__ se encarga de las ventas de bienes de consumo masivos en un segmento B2B y cuenta con diferentes variedades de clientes que se conocen como puntos de ventas, la misma tiene una gran red de vendedores que se encargan de visitar a estos clientes de manera presencial.\n",
    "\n",
    "El equipo de __Nivel De Servicio__ esta a cargo de todo lo relacionado a la experiencia del cliente en la venta Offline, es decir, a través de una visita del vendedor presencial, dentro de esto mismo puede ver diferentes aspectos como mejorar la calidad y optimizar los tiempos de las visitas de los vendedores, entender que productos son mas recomendable vender en los diferentes clientes, entender que tan eficientes son las visitas que se hacen, entre otras cosas.\n",
    "\n",
    "El equipo de Nivel De Servicios contacto al de __Ciencia de Datos__ para entender cuál es la mejor manera de optimizar los tiempos de visita en los clientes, para lograr este objetivo se te solicita que generes un producto que permita entender cuál es la recomendación de tiempo de visita para cada uno de los clientes en base a distintas variables comerciales."
   ]
  },
  {
   "cell_type": "markdown",
   "id": "1e5b091b",
   "metadata": {},
   "source": [
    "## Data \n",
    "Se suministra la siguiente información: \n",
    "\n",
    "dataset.csv \n",
    "\n",
    "- **cliente_id**: Codigo correspondiente a cada clientes \n",
    "- **aniomes**: Periodo correspondiente al registro año mes en formato yyyyMM \n",
    "- **canal**: Canal al que pertenece el clientes (Autoservicio, Kiosco/Maxiquiosco) \n",
    "- **region**: Region de la cual forma parte el cliente \n",
    "- **minutos_visitados_mes**: Minutos totales en el mes que se visito el cliente en \n",
    "cada periodo \n",
    "- **cantidad_heladeras**: Cantidad de heladeras que tenia el cliente en el periodo \n",
    "- **venta_total_negocios_mes**: Venta del total de los negocios que tuvo el cliente \n",
    "unidad Hl vendidos, esta venta puede no corresponder a la suma de los \n",
    "negocios por separados ya que incluye algunos productos que no se \n",
    "encuentran en los negocios (1,2,3,4) \n",
    "- **cantidad_productos_total_negocios_vendidos_mes**: Cantidad de productos \n",
    "distintos vendidos en la venta total de todos los negocios en cada periodo \n",
    "- **cantidad_compras_total_negocios_mes**: Cantidad de compras totales que el \n",
    "cliente hizo en el periodo \n",
    "- **dias_entre_compras_total_negocios_mes**: días pasados entre cada compra \n",
    "realizada dentro del periodo \n",
    "- **venta_negocio1_mes**: Venta correspondiente al negocio 1 en cada periodo, \n",
    "unidad Hl vendidos \n",
    "- **venta_negocio2_mes**: Venta correspondiente al negocio 2 en cada periodo, \n",
    "unidad Hl vendidos \n",
    "- **venta_negocio3_mes**: Venta correspondiente al negocio 3 en cada periodo, \n",
    "unidad Hl vendidos \n",
    "- **venta_negocio4_mes**: Venta correspondiente al negocio 4 en cada periodo, \n",
    "unidad Hl vendidos"
   ]
  },
  {
   "cell_type": "markdown",
   "id": "4f0581e5",
   "metadata": {},
   "source": [
    "## Objetivos\n",
    "Esta herramienta permite estimar y priorizar el tiempo de visita mensual asignado a cada cliente, en base a su comportamiento reciente.\n",
    "\n",
    "El objetivo principal es facilitar la toma de decisiones comerciales mediante un ranking regional que indique a qué clientes conviene dedicar más tiempo de visita, optimizando así la eficiencia de los recursos en el territorio.\n",
    "\n",
    "Variable objetivo (target):\n",
    "\n",
    "**minutos_visitados_mes**, que representa la duración total (en minutos) que se dedicó a visitar a un cliente en un mes determinado.\n",
    "\n",
    "A partir de esta variable, se construye un score normalizado para generar rankings comparables entre regiones."
   ]
  },
  {
   "cell_type": "markdown",
   "id": "2c886af7",
   "metadata": {},
   "source": [
    "##  Tabla de Contenidos\n",
    "\n",
    "1. [Importar librerías y raw data](#imports)  \n",
    "2. [EDA + Preprocessing](#eda-visual)  \n",
    "3. [Feature Transformation](#features)  \n",
    "4. [Model Training & Evaluation](#model)\n",
    "5. [Predicting on New Input Data](#7-predicting-on-new-input-data)"
   ]
  },
  {
   "cell_type": "markdown",
   "id": "351f3c43",
   "metadata": {},
   "source": []
  }
 ],
 "metadata": {
  "kernelspec": {
   "display_name": "mienv_ml",
   "language": "python",
   "name": "python3"
  },
  "language_info": {
   "name": "python",
   "version": "3.9.18"
  }
 },
 "nbformat": 4,
 "nbformat_minor": 5
}
