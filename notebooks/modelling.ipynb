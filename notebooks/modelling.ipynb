{
 "cells": [
  {
   "cell_type": "markdown",
   "id": "02261682",
   "metadata": {},
   "source": [
    "# Noteboook destinada al entrenamiento del modelo"
   ]
  },
  {
   "cell_type": "markdown",
   "id": "5238e4d7",
   "metadata": {},
   "source": [
    "## 1. Importar librerías y raw data\n",
    "Todas las librerías (Pandas, NumPy, Seaborn...) y el propio código modular `src/`."
   ]
  },
  {
   "cell_type": "code",
   "execution_count": 119,
   "id": "7c320508",
   "metadata": {},
   "outputs": [],
   "source": [
    "import sys\n",
    "sys.path.insert(0, '../src/')\n",
    "import pandas as pd\n",
    "import importlib\n",
    "import feature_engineering \n",
    "import preprocesing\n",
    "importlib.reload(feature_engineering)\n",
    "importlib.reload(preprocesing)\n",
    "import numpy as np\n",
    "from feature_engineering import get_cat_num_features\n",
    "from catboost import CatBoostRegressor\n",
    "from sklearn.metrics import mean_absolute_error, root_mean_squared_error\n",
    "from sklearn.pipeline import Pipeline\n",
    "import matplotlib.pyplot as plt\n",
    "from sklearn.linear_model import LinearRegression"
   ]
  },
  {
   "cell_type": "code",
   "execution_count": 120,
   "id": "28f2515c",
   "metadata": {},
   "outputs": [],
   "source": [
    "df = pd.read_csv('../data/processed/df_feat.csv')\n",
    "df['fecha'] = pd.to_datetime(df['fecha'])\n",
    "\n",
    "target = 'minutos_visitados_mes'"
   ]
  },
  {
   "cell_type": "code",
   "execution_count": 121,
   "id": "d1aa4e04",
   "metadata": {},
   "outputs": [],
   "source": [
    "# Probar modelar sin los outliers mayores al percentil 0.99 (sino comentar)\n",
    "\n",
    "#df = df[(df[target] < df[target].quantile(0.99))]\n",
    "#df[target].hist()\n",
    "#df['cliente_id'].nunique()"
   ]
  },
  {
   "cell_type": "markdown",
   "id": "c73b0f5f",
   "metadata": {},
   "source": [
    "### Split temporal Train - Valid - Test"
   ]
  },
  {
   "cell_type": "code",
   "execution_count": 122,
   "id": "a9f9a7dc",
   "metadata": {},
   "outputs": [],
   "source": [
    "df_train = df[df['aniomes'] < 202504]\n",
    "df_valid = df[(df['aniomes'] == 202504)]\n",
    "df_test = df[df['aniomes'] == 202505]"
   ]
  },
  {
   "cell_type": "markdown",
   "id": "a2591d4e",
   "metadata": {},
   "source": [
    "### Agrego una feature según ranking de ventas. \n",
    "\n",
    "La idea es codificar a aquellos clientes que conforman el 80% de las ventas de la empresa\n",
    "\n",
    "Grupo 1: Clientes que representan el 80% acumulado de las ventas totales de la empresa.\n",
    "\n",
    "Grupo 0: Clientes que contribuyen al 20% restante de las ventas.\n",
    "\n",
    "Esto lo hago en el Train para que no haya fuga de datos"
   ]
  },
  {
   "cell_type": "code",
   "execution_count": 123,
   "id": "b4859d7f",
   "metadata": {},
   "outputs": [],
   "source": [
    "ventas_historicas = (\n",
    "    df_train.groupby(\"cliente_id\")[\"venta_total_negocios_mes\"]\n",
    "    .sum()\n",
    "    .reset_index()\n",
    "    .rename(columns={\"venta_total_negocios_mes\": \"ventas_totales\"})\n",
    ")\n",
    "\n",
    "ventas_historicas = ventas_historicas.sort_values(\"ventas_totales\", ascending=False)\n",
    "\n",
    "# Calcular % acumulado\n",
    "ventas_historicas[\"porc_acum\"] = ventas_historicas[\"ventas_totales\"].cumsum() / ventas_historicas[\"ventas_totales\"].sum()\n",
    "\n",
    "# Marcar los que representan el 80% de las ventas\n",
    "ventas_historicas[\"top_80\"] = ventas_historicas[\"porc_acum\"] <= 0.8\n",
    "\n",
    "# top 80%\n",
    "clientes_top80 = ventas_historicas[ventas_historicas[\"top_80\"]]"
   ]
  },
  {
   "cell_type": "code",
   "execution_count": 124,
   "id": "59625039",
   "metadata": {},
   "outputs": [
    {
     "data": {
      "text/html": [
       "<div>\n",
       "<style scoped>\n",
       "    .dataframe tbody tr th:only-of-type {\n",
       "        vertical-align: middle;\n",
       "    }\n",
       "\n",
       "    .dataframe tbody tr th {\n",
       "        vertical-align: top;\n",
       "    }\n",
       "\n",
       "    .dataframe thead th {\n",
       "        text-align: right;\n",
       "    }\n",
       "</style>\n",
       "<table border=\"1\" class=\"dataframe\">\n",
       "  <thead>\n",
       "    <tr style=\"text-align: right;\">\n",
       "      <th></th>\n",
       "      <th>cliente_id</th>\n",
       "      <th>ventas_totales</th>\n",
       "      <th>porc_acum</th>\n",
       "      <th>top_80</th>\n",
       "    </tr>\n",
       "  </thead>\n",
       "  <tbody>\n",
       "    <tr>\n",
       "      <th>3621</th>\n",
       "      <td>4287a574ace354de2bdb68b16cff63df</td>\n",
       "      <td>6699.25876</td>\n",
       "      <td>0.014312</td>\n",
       "      <td>True</td>\n",
       "    </tr>\n",
       "    <tr>\n",
       "      <th>9272</th>\n",
       "      <td>a8d7a94c59bd58456b330d1d496227ae</td>\n",
       "      <td>5247.12972</td>\n",
       "      <td>0.025522</td>\n",
       "      <td>True</td>\n",
       "    </tr>\n",
       "    <tr>\n",
       "      <th>6734</th>\n",
       "      <td>7c74aa66e32a6ab05b043b02cee501bb</td>\n",
       "      <td>4910.90215</td>\n",
       "      <td>0.036013</td>\n",
       "      <td>True</td>\n",
       "    </tr>\n",
       "    <tr>\n",
       "      <th>11415</th>\n",
       "      <td>cfdd0ec5a9c983616e7813cf9607ba92</td>\n",
       "      <td>4062.11506</td>\n",
       "      <td>0.044691</td>\n",
       "      <td>True</td>\n",
       "    </tr>\n",
       "    <tr>\n",
       "      <th>5075</th>\n",
       "      <td>5e36317c7dabe9ba2764f6646144087d</td>\n",
       "      <td>3995.40344</td>\n",
       "      <td>0.053227</td>\n",
       "      <td>True</td>\n",
       "    </tr>\n",
       "    <tr>\n",
       "      <th>...</th>\n",
       "      <td>...</td>\n",
       "      <td>...</td>\n",
       "      <td>...</td>\n",
       "      <td>...</td>\n",
       "    </tr>\n",
       "    <tr>\n",
       "      <th>10061</th>\n",
       "      <td>b79aead1332ed45ab682b3844d069a1e</td>\n",
       "      <td>0.00000</td>\n",
       "      <td>1.000001</td>\n",
       "      <td>False</td>\n",
       "    </tr>\n",
       "    <tr>\n",
       "      <th>5957</th>\n",
       "      <td>6e2c22c3085c315374a7078d3d6725d5</td>\n",
       "      <td>0.00000</td>\n",
       "      <td>1.000001</td>\n",
       "      <td>False</td>\n",
       "    </tr>\n",
       "    <tr>\n",
       "      <th>12511</th>\n",
       "      <td>e3cea37f6ee0f52810cd0e8f64185f82</td>\n",
       "      <td>0.00000</td>\n",
       "      <td>1.000001</td>\n",
       "      <td>False</td>\n",
       "    </tr>\n",
       "    <tr>\n",
       "      <th>5313</th>\n",
       "      <td>62a434488b6f3eb6db0894a94fc4c11f</td>\n",
       "      <td>0.00000</td>\n",
       "      <td>1.000001</td>\n",
       "      <td>False</td>\n",
       "    </tr>\n",
       "    <tr>\n",
       "      <th>13373</th>\n",
       "      <td>f3cfe6cbb03dedfb572bbe1058ed9239</td>\n",
       "      <td>-0.65148</td>\n",
       "      <td>1.000000</td>\n",
       "      <td>False</td>\n",
       "    </tr>\n",
       "  </tbody>\n",
       "</table>\n",
       "<p>14034 rows × 4 columns</p>\n",
       "</div>"
      ],
      "text/plain": [
       "                             cliente_id  ventas_totales  porc_acum  top_80\n",
       "3621   4287a574ace354de2bdb68b16cff63df      6699.25876   0.014312    True\n",
       "9272   a8d7a94c59bd58456b330d1d496227ae      5247.12972   0.025522    True\n",
       "6734   7c74aa66e32a6ab05b043b02cee501bb      4910.90215   0.036013    True\n",
       "11415  cfdd0ec5a9c983616e7813cf9607ba92      4062.11506   0.044691    True\n",
       "5075   5e36317c7dabe9ba2764f6646144087d      3995.40344   0.053227    True\n",
       "...                                 ...             ...        ...     ...\n",
       "10061  b79aead1332ed45ab682b3844d069a1e         0.00000   1.000001   False\n",
       "5957   6e2c22c3085c315374a7078d3d6725d5         0.00000   1.000001   False\n",
       "12511  e3cea37f6ee0f52810cd0e8f64185f82         0.00000   1.000001   False\n",
       "5313   62a434488b6f3eb6db0894a94fc4c11f         0.00000   1.000001   False\n",
       "13373  f3cfe6cbb03dedfb572bbe1058ed9239        -0.65148   1.000000   False\n",
       "\n",
       "[14034 rows x 4 columns]"
      ]
     },
     "execution_count": 124,
     "metadata": {},
     "output_type": "execute_result"
    }
   ],
   "source": [
    "ventas_historicas"
   ]
  },
  {
   "cell_type": "code",
   "execution_count": null,
   "id": "777ff57e",
   "metadata": {},
   "outputs": [],
   "source": [
    "df_train['top_80'] = df_train['cliente_id'].isin(clientes_top80['cliente_id'])\n",
    "df_valid['top_80'] = df_valid['cliente_id'].isin(clientes_top80['cliente_id'])\n",
    "df_test['top_80'] = df_test['cliente_id'].isin(clientes_top80['cliente_id'])\n"
   ]
  },
  {
   "cell_type": "code",
   "execution_count": 126,
   "id": "e53faeb5",
   "metadata": {},
   "outputs": [
    {
     "name": "stdout",
     "output_type": "stream",
     "text": [
      "3 variables categóricas\n",
      "19 variables numéricas\n",
      "22 variables en total\n"
     ]
    }
   ],
   "source": [
    "cat_features, num_features = get_cat_num_features(df_train)\n",
    "num_features = [col for col in num_features if col not in ['aniomes', 'minutos_visitados_mes']]\n",
    "cat_features = [col for col in cat_features if col not in ['cliente_id']]"
   ]
  },
  {
   "cell_type": "code",
   "execution_count": 127,
   "id": "f5313fcd",
   "metadata": {},
   "outputs": [
    {
     "data": {
      "text/plain": [
       "['cantidad_heladeras',\n",
       " 'venta_total_negocios_mes',\n",
       " 'cantidad_productos_total_negocios_vendidos_mes',\n",
       " 'cantidad_compras_total_negocios_mes',\n",
       " 'dias_entre_compras_total_negocios_mes',\n",
       " 'venta_negocio1_mes',\n",
       " 'venta_negocio2_mes',\n",
       " 'venta_negocio3_mes',\n",
       " 'venta_negocio4_mes',\n",
       " 'productos_por_compra',\n",
       " 'venta_promedio_x_compra',\n",
       " 'venta_por_heladera',\n",
       " 'ratio_neg1',\n",
       " 'ratio_neg2',\n",
       " 'ratio_neg3',\n",
       " 'ratio_neg4',\n",
       " 'flag_suma_ventas_0']"
      ]
     },
     "execution_count": 127,
     "metadata": {},
     "output_type": "execute_result"
    }
   ],
   "source": [
    "num_features"
   ]
  },
  {
   "cell_type": "markdown",
   "id": "2fba3d9e",
   "metadata": {},
   "source": [
    "Separar features de target"
   ]
  },
  {
   "cell_type": "code",
   "execution_count": 128,
   "id": "ec9074f6",
   "metadata": {},
   "outputs": [],
   "source": [
    "X_train, y_train = df_train[cat_features + num_features], df_train[target]\n",
    "X_valid, y_valid = df_valid[cat_features + num_features], df_valid[target]\n",
    "X_test, y_test = df_test[cat_features + num_features], df_test[target]"
   ]
  },
  {
   "cell_type": "markdown",
   "id": "6142dd26",
   "metadata": {},
   "source": [
    "Custom metric:\n",
    "\n",
    "Se crea una metrica basada en si el error se comete en clientes importantes o no "
   ]
  },
  {
   "cell_type": "code",
   "execution_count": 129,
   "id": "75100010",
   "metadata": {},
   "outputs": [],
   "source": [
    "def weighted_mae(y_true, y_pred, sample_weight):\n",
    "    return np.sum(sample_weight * np.abs(y_true - y_pred)) / np.sum(sample_weight)\n",
    "\n",
    "sample_weight_train = np.where(df_train['top_80'], 2, 1)\n",
    "sample_weight_valid = np.where(df_valid['top_80'], 2, 1)\n",
    "sample_weight_test = np.where(df_test['top_80'], 2, 1)"
   ]
  },
  {
   "cell_type": "markdown",
   "id": "0e701748",
   "metadata": {},
   "source": [
    "### Linear Regression"
   ]
  },
  {
   "cell_type": "code",
   "execution_count": 130,
   "id": "a27ea990",
   "metadata": {},
   "outputs": [
    {
     "name": "stdout",
     "output_type": "stream",
     "text": [
      "Train MAE (Baseline LR): 31.7355\n",
      "Train RMSE (Baseline LR): 55.3890\n",
      "Custom Weighted MAE: 36.8699\n",
      "------------------------------\n",
      "Validation MAE (Baseline LR): 26.6024\n",
      "Validation RMSE (Baseline LR): 41.7914\n",
      "Custom Weighted MAE: 30.3571\n"
     ]
    }
   ],
   "source": [
    "from sklearn.pipeline import Pipeline\n",
    "from sklearn.compose import ColumnTransformer\n",
    "from sklearn.preprocessing import OneHotEncoder, RobustScaler\n",
    "from sklearn.impute import SimpleImputer\n",
    "\n",
    "num_pipeline = Pipeline([\n",
    "    ('imputer', SimpleImputer(strategy='median')),\n",
    "    ('scaler', RobustScaler())\n",
    "    ])\n",
    "\n",
    "cat_pipeline = Pipeline([\n",
    "    ('onehot', OneHotEncoder(handle_unknown='ignore'))\n",
    "    ])\n",
    "\n",
    "preprocessor = ColumnTransformer(\n",
    "    transformers=[\n",
    "        ('num', num_pipeline, num_features),\n",
    "        ('cat', cat_pipeline, cat_features)\n",
    "    ]\n",
    ")\n",
    "# Pipeline final con modelo\n",
    "model = Pipeline([\n",
    "    ('preproc', preprocessor),\n",
    "    ('regressor', LinearRegression())\n",
    "])\n",
    "\n",
    "# Ajustar el modelo\n",
    "model.fit(X_train, y_train)\n",
    "import joblib\n",
    "filename = f\"modelo_linear.pkl\"\n",
    "joblib.dump(model, filename)\n",
    "\n",
    "# Predecir en entrenamiento y validación\n",
    "y_train_pred = model.predict(X_train)\n",
    "y_valid_pred = model.predict(X_valid)\n",
    "\n",
    "# Calcular métricas\n",
    "mae_train = mean_absolute_error(y_train, y_train_pred)\n",
    "rmse_train = root_mean_squared_error(y_train, y_train_pred)\n",
    "\n",
    "mae_valid = mean_absolute_error(y_valid, y_valid_pred)\n",
    "rmse_valid = root_mean_squared_error(y_valid, y_valid_pred)\n",
    "\n",
    "print(f\"Train MAE (Baseline LR): {mae_train:.4f}\")\n",
    "print(f\"Train RMSE (Baseline LR): {rmse_train:.4f}\")\n",
    "print(f\"Custom Weighted MAE: {weighted_mae(y_train, y_train_pred, sample_weight_train):.4f}\")\n",
    "print(f\"------------------------------\")\n",
    "print(f\"Validation MAE (Baseline LR): {mae_valid:.4f}\")\n",
    "print(f\"Validation RMSE (Baseline LR): {rmse_valid:.4f}\")\n",
    "print(f\"Custom Weighted MAE: {weighted_mae(y_valid, y_valid_pred, sample_weight_valid):.4f}\")"
   ]
  },
  {
   "cell_type": "markdown",
   "id": "8acff5eb",
   "metadata": {},
   "source": [
    "### CatBoost"
   ]
  },
  {
   "cell_type": "code",
   "execution_count": 131,
   "id": "f16fa326",
   "metadata": {},
   "outputs": [
    {
     "name": "stdout",
     "output_type": "stream",
     "text": [
      "0:\tlearn: 42.2738150\ttest: 39.0203708\tbest: 39.0203708 (0)\ttotal: 298ms\tremaining: 4m 57s\n",
      "100:\tlearn: 26.6261610\ttest: 22.6335972\tbest: 22.6335972 (100)\ttotal: 19.5s\tremaining: 2m 53s\n",
      "200:\tlearn: 26.3488255\ttest: 22.6028087\tbest: 22.6026525 (198)\ttotal: 38.3s\tremaining: 2m 32s\n",
      "300:\tlearn: 26.1807835\ttest: 22.5815385\tbest: 22.5813155 (292)\ttotal: 59.8s\tremaining: 2m 18s\n",
      "400:\tlearn: 26.1236784\ttest: 22.5603947\tbest: 22.5600820 (398)\ttotal: 1m 21s\tremaining: 2m 1s\n",
      "500:\tlearn: 26.1115149\ttest: 22.5623450\tbest: 22.5592972 (423)\ttotal: 1m 43s\tremaining: 1m 43s\n",
      "Stopped by overfitting detector  (100 iterations wait)\n",
      "\n",
      "bestTest = 22.55929718\n",
      "bestIteration = 423\n",
      "\n",
      "Shrink model to first 424 iterations.\n"
     ]
    },
    {
     "data": {
      "text/plain": [
       "<catboost.core.CatBoostRegressor at 0x1b182852af0>"
      ]
     },
     "execution_count": 131,
     "metadata": {},
     "output_type": "execute_result"
    }
   ],
   "source": [
    "from sklearn.impute import SimpleImputer\n",
    "X_train_cb = X_train.copy()\n",
    "X_valid_cb = X_valid.copy()\n",
    "\n",
    "\n",
    "imputer = SimpleImputer(strategy='median')\n",
    "X_train_cb[num_features] = imputer.fit_transform(X_train_cb[num_features])\n",
    "X_valid_cb[num_features] = imputer.transform(X_valid_cb[num_features])\n",
    "\n",
    "\n",
    "model_cb = CatBoostRegressor(\n",
    "        iterations=1000,\n",
    "        learning_rate=0.05,\n",
    "        depth=10,\n",
    "        loss_function='MAE',\n",
    "        eval_metric='MAE',\n",
    "        random_seed=42,\n",
    "        early_stopping_rounds=100,\n",
    "        verbose=100\n",
    "    )\n",
    "\n",
    "model_cb.fit(\n",
    "        X_train_cb, y_train,\n",
    "        eval_set=(X_valid_cb, y_valid),\n",
    "        cat_features=cat_features,\n",
    "        use_best_model=True,\n",
    "    )\n",
    "\n"
   ]
  },
  {
   "cell_type": "code",
   "execution_count": 132,
   "id": "d26d5405",
   "metadata": {},
   "outputs": [
    {
     "name": "stdout",
     "output_type": "stream",
     "text": [
      "Train MAE CatBoost: 26.1468\n",
      "Train RMSE CatBoost: 51.1250\n",
      "Custom Weighted MAE: 30.9547\n",
      "------------------------------\n",
      "Validation MAE CatBoost: 22.5593\n",
      "Validation RMSE CatBoost: 38.6731\n",
      "Custom Weighted MAE: 26.2669\n"
     ]
    }
   ],
   "source": [
    "import joblib\n",
    "filename = f\"modelo_catboost.pkl\"\n",
    "joblib.dump(model_cb, filename)\n",
    "\n",
    "preds_cb_train = model_cb.predict(X_train_cb)\n",
    "preds_cb_valid= model_cb.predict(X_valid_cb)\n",
    "\n",
    "mae_cb_train = mean_absolute_error(y_train, preds_cb_train)\n",
    "rmse_cb_train = root_mean_squared_error(y_train, preds_cb_train)\n",
    "print(f\"Train MAE CatBoost: {mae_cb_train:.4f}\")\n",
    "print(f\"Train RMSE CatBoost: {rmse_cb_train:.4f}\")\n",
    "print(f\"Custom Weighted MAE: {weighted_mae(y_train, preds_cb_train, sample_weight_train):.4f}\")\n",
    "\n",
    "mae_cb = mean_absolute_error(y_valid, preds_cb_valid)\n",
    "rmse_cb = root_mean_squared_error(y_valid, preds_cb_valid)\n",
    "\n",
    "print(f\"------------------------------\")\n",
    "print(f\"Validation MAE CatBoost: {mae_cb:.4f}\")\n",
    "print(f\"Validation RMSE CatBoost: {rmse_cb:.4f}\")\n",
    "print(f\"Custom Weighted MAE: {weighted_mae(y_valid, preds_cb_valid, sample_weight_valid):.4f}\")"
   ]
  },
  {
   "cell_type": "markdown",
   "id": "2f6fa088",
   "metadata": {},
   "source": [
    "### Feature importance"
   ]
  },
  {
   "cell_type": "code",
   "execution_count": 133,
   "id": "f8741f43",
   "metadata": {},
   "outputs": [
    {
     "name": "stdout",
     "output_type": "stream",
     "text": [
      "                                           feature  importance\n",
      "0                                            canal   54.113977\n",
      "1                                           region   10.071543\n",
      "2                               cantidad_heladeras    9.560851\n",
      "6            dias_entre_compras_total_negocios_mes    4.694238\n",
      "4   cantidad_productos_total_negocios_vendidos_mes    3.601356\n",
      "11                            productos_por_compra    2.776224\n",
      "5              cantidad_compras_total_negocios_mes    2.553693\n",
      "12                         venta_promedio_x_compra    1.880980\n",
      "7                               venta_negocio1_mes    1.571591\n",
      "8                               venta_negocio2_mes    1.528713\n",
      "3                         venta_total_negocios_mes    1.417613\n",
      "14                                      ratio_neg1    1.283577\n",
      "15                                      ratio_neg2    1.096356\n",
      "13                              venta_por_heladera    0.847091\n",
      "16                                      ratio_neg3    0.819208\n",
      "9                               venta_negocio3_mes    0.816174\n",
      "17                                      ratio_neg4    0.751547\n",
      "18                              flag_suma_ventas_0    0.325426\n",
      "10                              venta_negocio4_mes    0.289843\n"
     ]
    }
   ],
   "source": [
    "df_importances = pd.DataFrame({\n",
    "    \"feature\": X_train_cb.columns,\n",
    "    \"importance\": model_cb.feature_importances_\n",
    "})\n",
    "\n",
    "# Filtrar solo importancias > 0 y ordenar\n",
    "df_importances = df_importances[df_importances[\"importance\"] > 0] \\\n",
    "                                .sort_values(by=\"importance\", ascending=False)\n",
    "\n",
    "print(df_importances)"
   ]
  },
  {
   "cell_type": "code",
   "execution_count": 134,
   "id": "d8829918",
   "metadata": {},
   "outputs": [
    {
     "name": "stdout",
     "output_type": "stream",
     "text": [
      "Con las 11 primeras features cubro el 95% de la importancia total.\n"
     ]
    }
   ],
   "source": [
    "# Calcular porcentaje acumulado\n",
    "df_importances[\"cum_importance\"] = df_importances[\"importance\"].cumsum()\n",
    "\n",
    "# Normalizar a porcentaje sobre el total\n",
    "df_importances[\"cum_importance_pct\"] = 100 * df_importances[\"cum_importance\"] / df_importances[\"importance\"].sum()\n",
    "\n",
    "# Mostrar las primeras features que cubren el 95% de la importancia\n",
    "n_features_95 = (df_importances[\"cum_importance_pct\"] <= 95).sum()\n",
    "\n",
    "print(f\"Con las {n_features_95} primeras features cubro el 95% de la importancia total.\")\n",
    "top_features = df_importances.loc[df_importances[\"cum_importance_pct\"] <= 95, \"feature\"].tolist()"
   ]
  },
  {
   "cell_type": "markdown",
   "id": "b5e28179",
   "metadata": {},
   "source": [
    "### Predicción en Test"
   ]
  },
  {
   "cell_type": "code",
   "execution_count": 135,
   "id": "46109868",
   "metadata": {},
   "outputs": [],
   "source": [
    "X_test_cb = X_test.copy()\n",
    "X_test_cb[num_features] = imputer.transform(X_test_cb[num_features])\n",
    "\n",
    "y_pred_test = model_cb.predict(X_test_cb)"
   ]
  },
  {
   "cell_type": "code",
   "execution_count": 136,
   "id": "eb992a3b",
   "metadata": {},
   "outputs": [
    {
     "name": "stdout",
     "output_type": "stream",
     "text": [
      "Test MAE CatBoost: 26.3660\n",
      "Test RMSE CatBoost: 46.0008\n",
      "Test Custom Weighted MAE: 30.6834\n"
     ]
    }
   ],
   "source": [
    "print(f\"Test MAE CatBoost: {mean_absolute_error(y_test, y_pred_test):.4f}\")\n",
    "print(f\"Test RMSE CatBoost: {root_mean_squared_error(y_test, y_pred_test):.4f}\")\n",
    "print(f\"Test Custom Weighted MAE: {weighted_mae(y_test, y_pred_test, sample_weight_test):.4f}\")"
   ]
  }
 ],
 "metadata": {
  "kernelspec": {
   "display_name": "mienv_ml",
   "language": "python",
   "name": "python3"
  },
  "language_info": {
   "codemirror_mode": {
    "name": "ipython",
    "version": 3
   },
   "file_extension": ".py",
   "mimetype": "text/x-python",
   "name": "python",
   "nbconvert_exporter": "python",
   "pygments_lexer": "ipython3",
   "version": "3.9.18"
  }
 },
 "nbformat": 4,
 "nbformat_minor": 5
}
