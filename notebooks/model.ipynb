{
 "cells": [
  {
   "cell_type": "markdown",
   "id": "0891d317",
   "metadata": {},
   "source": [
    "# Noteboook destinada al entrenamiento del modelo"
   ]
  },
  {
   "cell_type": "markdown",
   "id": "11bc4d02",
   "metadata": {},
   "source": [
    "## 1. Importar librerías y raw data\n",
    "Todas las librerías (Pandas, NumPy, Seaborn...) y el propio código modular `src/`."
   ]
  },
  {
   "cell_type": "code",
   "execution_count": 20,
   "id": "b3500dfe",
   "metadata": {},
   "outputs": [],
   "source": [
    "import sys\n",
    "sys.path.insert(0, '../src/')\n",
    "import pandas as pd\n",
    "import importlib\n",
    "import feature_engineering \n",
    "importlib.reload(feature_engineering)\n",
    "\n",
    "from feature_engineering import get_features, get_cat_num_features\n"
   ]
  },
  {
   "cell_type": "code",
   "execution_count": 35,
   "id": "00928049",
   "metadata": {},
   "outputs": [],
   "source": [
    "# Imporar dataset preprocesado\n",
    "df = pd.read_csv('../data/processed/df_clean.csv')\n",
    "target = 'minutos_visitados_mes'"
   ]
  },
  {
   "cell_type": "markdown",
   "id": "6867fad6",
   "metadata": {},
   "source": [
    "### 2. Feature Engineering"
   ]
  },
  {
   "cell_type": "markdown",
   "id": "4564b541",
   "metadata": {},
   "source": [
    "- Creación de nuevas features"
   ]
  },
  {
   "cell_type": "code",
   "execution_count": 36,
   "id": "cf3222fd",
   "metadata": {},
   "outputs": [
    {
     "data": {
      "text/html": [
       "<div>\n",
       "<style scoped>\n",
       "    .dataframe tbody tr th:only-of-type {\n",
       "        vertical-align: middle;\n",
       "    }\n",
       "\n",
       "    .dataframe tbody tr th {\n",
       "        vertical-align: top;\n",
       "    }\n",
       "\n",
       "    .dataframe thead th {\n",
       "        text-align: right;\n",
       "    }\n",
       "</style>\n",
       "<table border=\"1\" class=\"dataframe\">\n",
       "  <thead>\n",
       "    <tr style=\"text-align: right;\">\n",
       "      <th></th>\n",
       "      <th>cliente_id</th>\n",
       "      <th>aniomes</th>\n",
       "      <th>fecha</th>\n",
       "      <th>canal</th>\n",
       "      <th>region</th>\n",
       "      <th>minutos_visitados_mes</th>\n",
       "      <th>cantidad_heladeras</th>\n",
       "      <th>venta_total_negocios_mes</th>\n",
       "      <th>cantidad_productos_total_negocios_vendidos_mes</th>\n",
       "      <th>cantidad_compras_total_negocios_mes</th>\n",
       "      <th>...</th>\n",
       "      <th>venta_negocio1_mes_negativa</th>\n",
       "      <th>venta_negocio2_mes_negativa</th>\n",
       "      <th>venta_negocio3_mes_negativa</th>\n",
       "      <th>venta_negocio4_mes_negativa</th>\n",
       "      <th>ventas_por_visita</th>\n",
       "      <th>productos_por_compra</th>\n",
       "      <th>venta_promedio_x_compra</th>\n",
       "      <th>mes_sin</th>\n",
       "      <th>mes_cos</th>\n",
       "      <th>is_first_month</th>\n",
       "    </tr>\n",
       "  </thead>\n",
       "  <tbody>\n",
       "    <tr>\n",
       "      <th>0</th>\n",
       "      <td>3e1f078ba07f177421f0aefa1884347d</td>\n",
       "      <td>202501</td>\n",
       "      <td>2025-01-01</td>\n",
       "      <td>AUTOSERVICIO</td>\n",
       "      <td>LITORAL</td>\n",
       "      <td>31.600000</td>\n",
       "      <td>5.0</td>\n",
       "      <td>5.00946</td>\n",
       "      <td>23.0</td>\n",
       "      <td>45.0</td>\n",
       "      <td>...</td>\n",
       "      <td>False</td>\n",
       "      <td>False</td>\n",
       "      <td>False</td>\n",
       "      <td>False</td>\n",
       "      <td>0.158527</td>\n",
       "      <td>0.511111</td>\n",
       "      <td>0.111321</td>\n",
       "      <td>5.000000e-01</td>\n",
       "      <td>0.866025</td>\n",
       "      <td>0</td>\n",
       "    </tr>\n",
       "    <tr>\n",
       "      <th>1</th>\n",
       "      <td>58ae3b6ad98d3e3e4ba2b404c9142e0f</td>\n",
       "      <td>202504</td>\n",
       "      <td>2025-04-01</td>\n",
       "      <td>AUTOSERVICIO</td>\n",
       "      <td>GBA MINORISTAS</td>\n",
       "      <td>214.683333</td>\n",
       "      <td>4.0</td>\n",
       "      <td>6.65658</td>\n",
       "      <td>11.0</td>\n",
       "      <td>19.0</td>\n",
       "      <td>...</td>\n",
       "      <td>False</td>\n",
       "      <td>False</td>\n",
       "      <td>False</td>\n",
       "      <td>False</td>\n",
       "      <td>0.031007</td>\n",
       "      <td>0.578947</td>\n",
       "      <td>0.350346</td>\n",
       "      <td>8.660254e-01</td>\n",
       "      <td>-0.500000</td>\n",
       "      <td>0</td>\n",
       "    </tr>\n",
       "    <tr>\n",
       "      <th>2</th>\n",
       "      <td>f3a854fb42adecbc313785f1f1629ffe</td>\n",
       "      <td>202407</td>\n",
       "      <td>2024-07-01</td>\n",
       "      <td>KIOSCOS/MAXIKIOSCOS</td>\n",
       "      <td>NEA</td>\n",
       "      <td>17.433333</td>\n",
       "      <td>0.0</td>\n",
       "      <td>0.00000</td>\n",
       "      <td>0.0</td>\n",
       "      <td>0.0</td>\n",
       "      <td>...</td>\n",
       "      <td>False</td>\n",
       "      <td>False</td>\n",
       "      <td>False</td>\n",
       "      <td>False</td>\n",
       "      <td>0.000000</td>\n",
       "      <td>0.000000</td>\n",
       "      <td>0.000000</td>\n",
       "      <td>-5.000000e-01</td>\n",
       "      <td>-0.866025</td>\n",
       "      <td>0</td>\n",
       "    </tr>\n",
       "    <tr>\n",
       "      <th>3</th>\n",
       "      <td>e7d278a2f3c239afeaf9526d7e275401</td>\n",
       "      <td>202412</td>\n",
       "      <td>2024-12-01</td>\n",
       "      <td>KIOSCOS/MAXIKIOSCOS</td>\n",
       "      <td>LITORAL</td>\n",
       "      <td>24.733333</td>\n",
       "      <td>2.0</td>\n",
       "      <td>0.00000</td>\n",
       "      <td>0.0</td>\n",
       "      <td>0.0</td>\n",
       "      <td>...</td>\n",
       "      <td>False</td>\n",
       "      <td>False</td>\n",
       "      <td>False</td>\n",
       "      <td>False</td>\n",
       "      <td>0.000000</td>\n",
       "      <td>0.000000</td>\n",
       "      <td>0.000000</td>\n",
       "      <td>-2.449294e-16</td>\n",
       "      <td>1.000000</td>\n",
       "      <td>0</td>\n",
       "    </tr>\n",
       "    <tr>\n",
       "      <th>4</th>\n",
       "      <td>3f4bd1f117b18afa131c48de15486652</td>\n",
       "      <td>202411</td>\n",
       "      <td>2024-11-01</td>\n",
       "      <td>KIOSCOS/MAXIKIOSCOS</td>\n",
       "      <td>GBA MINORISTAS</td>\n",
       "      <td>11.166667</td>\n",
       "      <td>2.0</td>\n",
       "      <td>0.00000</td>\n",
       "      <td>0.0</td>\n",
       "      <td>0.0</td>\n",
       "      <td>...</td>\n",
       "      <td>False</td>\n",
       "      <td>False</td>\n",
       "      <td>False</td>\n",
       "      <td>False</td>\n",
       "      <td>0.000000</td>\n",
       "      <td>0.000000</td>\n",
       "      <td>0.000000</td>\n",
       "      <td>-5.000000e-01</td>\n",
       "      <td>0.866025</td>\n",
       "      <td>0</td>\n",
       "    </tr>\n",
       "  </tbody>\n",
       "</table>\n",
       "<p>5 rows × 26 columns</p>\n",
       "</div>"
      ],
      "text/plain": [
       "                         cliente_id  aniomes      fecha                canal  \\\n",
       "0  3e1f078ba07f177421f0aefa1884347d   202501 2025-01-01         AUTOSERVICIO   \n",
       "1  58ae3b6ad98d3e3e4ba2b404c9142e0f   202504 2025-04-01         AUTOSERVICIO   \n",
       "2  f3a854fb42adecbc313785f1f1629ffe   202407 2024-07-01  KIOSCOS/MAXIKIOSCOS   \n",
       "3  e7d278a2f3c239afeaf9526d7e275401   202412 2024-12-01  KIOSCOS/MAXIKIOSCOS   \n",
       "4  3f4bd1f117b18afa131c48de15486652   202411 2024-11-01  KIOSCOS/MAXIKIOSCOS   \n",
       "\n",
       "           region  minutos_visitados_mes  cantidad_heladeras  \\\n",
       "0         LITORAL              31.600000                 5.0   \n",
       "1  GBA MINORISTAS             214.683333                 4.0   \n",
       "2             NEA              17.433333                 0.0   \n",
       "3         LITORAL              24.733333                 2.0   \n",
       "4  GBA MINORISTAS              11.166667                 2.0   \n",
       "\n",
       "   venta_total_negocios_mes  cantidad_productos_total_negocios_vendidos_mes  \\\n",
       "0                   5.00946                                            23.0   \n",
       "1                   6.65658                                            11.0   \n",
       "2                   0.00000                                             0.0   \n",
       "3                   0.00000                                             0.0   \n",
       "4                   0.00000                                             0.0   \n",
       "\n",
       "   cantidad_compras_total_negocios_mes  ...  venta_negocio1_mes_negativa  \\\n",
       "0                                 45.0  ...                        False   \n",
       "1                                 19.0  ...                        False   \n",
       "2                                  0.0  ...                        False   \n",
       "3                                  0.0  ...                        False   \n",
       "4                                  0.0  ...                        False   \n",
       "\n",
       "   venta_negocio2_mes_negativa  venta_negocio3_mes_negativa  \\\n",
       "0                        False                        False   \n",
       "1                        False                        False   \n",
       "2                        False                        False   \n",
       "3                        False                        False   \n",
       "4                        False                        False   \n",
       "\n",
       "   venta_negocio4_mes_negativa  ventas_por_visita  productos_por_compra  \\\n",
       "0                        False           0.158527              0.511111   \n",
       "1                        False           0.031007              0.578947   \n",
       "2                        False           0.000000              0.000000   \n",
       "3                        False           0.000000              0.000000   \n",
       "4                        False           0.000000              0.000000   \n",
       "\n",
       "   venta_promedio_x_compra       mes_sin   mes_cos  is_first_month  \n",
       "0                 0.111321  5.000000e-01  0.866025               0  \n",
       "1                 0.350346  8.660254e-01 -0.500000               0  \n",
       "2                 0.000000 -5.000000e-01 -0.866025               0  \n",
       "3                 0.000000 -2.449294e-16  1.000000               0  \n",
       "4                 0.000000 -5.000000e-01  0.866025               0  \n",
       "\n",
       "[5 rows x 26 columns]"
      ]
     },
     "execution_count": 36,
     "metadata": {},
     "output_type": "execute_result"
    }
   ],
   "source": [
    "df_new = get_features(df)\n",
    "df_new.head()"
   ]
  },
  {
   "cell_type": "markdown",
   "id": "7c8dd864",
   "metadata": {},
   "source": [
    "- Normalización de variables numéricas"
   ]
  },
  {
   "cell_type": "code",
   "execution_count": 23,
   "id": "3f9ad2ec",
   "metadata": {},
   "outputs": [
    {
     "name": "stdout",
     "output_type": "stream",
     "text": [
      "3 variables categóricas\n",
      "17 variables numéricas\n",
      "20 variables en total\n"
     ]
    }
   ],
   "source": [
    "cat_features, num_features = get_cat_num_features(df_new)"
   ]
  },
  {
   "cell_type": "code",
   "execution_count": 38,
   "id": "8a85cbc1",
   "metadata": {},
   "outputs": [],
   "source": [
    "cat_features = [f for f in cat_features if f not in ['cliente_id']]\n",
    "num_features = [f for f in num_features if f not in [target, 'aniomes']]"
   ]
  },
  {
   "cell_type": "markdown",
   "id": "f7459d66",
   "metadata": {},
   "source": [
    "### Clasificación de clientes"
   ]
  },
  {
   "cell_type": "code",
   "execution_count": null,
   "id": "a737cdca",
   "metadata": {},
   "outputs": [],
   "source": []
  },
  {
   "cell_type": "markdown",
   "id": "ed7ac813",
   "metadata": {},
   "source": [
    "### 3.  Modelo Baseline"
   ]
  },
  {
   "cell_type": "markdown",
   "id": "0a26abcc",
   "metadata": {},
   "source": []
  }
 ],
 "metadata": {
  "kernelspec": {
   "display_name": "mienv_ml",
   "language": "python",
   "name": "python3"
  },
  "language_info": {
   "codemirror_mode": {
    "name": "ipython",
    "version": 3
   },
   "file_extension": ".py",
   "mimetype": "text/x-python",
   "name": "python",
   "nbconvert_exporter": "python",
   "pygments_lexer": "ipython3",
   "version": "3.9.18"
  }
 },
 "nbformat": 4,
 "nbformat_minor": 5
}
